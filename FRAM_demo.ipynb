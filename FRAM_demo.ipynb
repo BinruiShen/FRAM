{
 "cells": [
  {
   "cell_type": "code",
   "execution_count": 12,
   "id": "41457459-b435-46c5-b828-b9d7bd91add9",
   "metadata": {},
   "outputs": [],
   "source": [
    "import torch\n",
    "import numpy as np\n",
    "from scipy.optimize import linear_sum_assignment\n",
    "from numpy import *\n",
    "import cv2\n",
    "import scipy.io as scio\n",
    "from scipy.optimize import linear_sum_assignment\n",
    "import time\n",
    "# from line_profiler import LineProfiler\n",
    "import pickle\n",
    "import networkx"
   ]
  },
  {
   "cell_type": "code",
   "execution_count": 10,
   "id": "3f37bee0-a8a5-415d-bbd9-282174b61daf",
   "metadata": {},
   "outputs": [],
   "source": [
    "def graphmatch_fram(adjacency1, adjacency2, K=0, erro=0.1, a=0.5, lamb=1,k=100,max_dsp_iter=1000,dsp_tol=1.1,theta=10):\n",
    "    print(\"################### FRAM  ############\")\n",
    "    start = time.perf_counter()\n",
    "\n",
    "    n, _ = adjacency1.shape\n",
    "    m, _ = adjacency2.shape\n",
    "\n",
    "    big_nm = max(n, m)\n",
    "    X = np.ones((n, m)) / (n * m)\n",
    "    Y = np.zeros((big_nm, big_nm))\n",
    "\n",
    "    for i in range(30):\n",
    "        x = X\n",
    "        Y[0:n, 0:m] = adjacency1 @ X @ adjacency2 + lamb * K\n",
    "        Y = fra(Y, theta=theta, max_ip_iter=1,max_dsp_iter=max_dsp_iter, dsp_tol=dsp_tol)\n",
    "        X = (1 - a) * X + a * Y[0:n, 0:m]\n",
    "        err= np.linalg.norm(x-X, ord=\"fro\")/np.linalg.norm(X, ord=\"fro\")\n",
    "        print(i, err)\n",
    "        if err < erro:\n",
    "            print(\"FRAM converge\")\n",
    "            break\n",
    "\n",
    "    P = hugarian(X)\n",
    "    end = time.perf_counter()\n",
    "    runtime = end - start\n",
    "    return P, runtime  \n",
    "\n",
    "def fra(Y,theta=2, max_ip_iter=20,max_dsp_iter=10,dsp_tol=1.1):\n",
    "    Y = np.array(Y)\n",
    "    Y = Y/Y.max()\n",
    "    n=Y.shape[0]\n",
    "    Y = theta/2*Y\n",
    "    for j in range(max_dsp_iter):\n",
    "        Y, Y_sum  = dsp_once(Y)\n",
    "        if Y_sum/n< dsp_tol:\n",
    "            print(\"FRA Converge in interation  \" +  str(j))\n",
    "            break\n",
    "    Y = np.mat(Y)\n",
    "    return Y\n",
    "\n",
    "\n",
    "def dsp_once(Y):\n",
    "    n=Y.shape[0]\n",
    "    \n",
    "    Y_row = np.sum(Y,1,keepdims=True)\n",
    "    Y_col = np.sum(Y,0)\n",
    "    Y_sum = Y_row.sum()\n",
    "\n",
    "    Y=Y + (Y_sum/n + 1 - Y_row - Y_col)/n\n",
    "    Y[Y < 0] = 0\n",
    "    return Y, Y_sum\n",
    "\n",
    "def hugarian(matrix):\n",
    "    n,m=matrix.shape\n",
    "    P=np.mat(zeros((n,m)))\n",
    "    row_ind,col_ind=linear_sum_assignment(-matrix)\n",
    "    P[row_ind,col_ind]=1\n",
    "    return P"
   ]
  },
  {
   "cell_type": "code",
   "execution_count": 8,
   "id": "4effb66e-a874-417d-81bf-c336e6d95aa5",
   "metadata": {},
   "outputs": [],
   "source": [
    "G_face = pickle.load(open(\"G_face.gpickle\", 'rb'))\n",
    "G_face_noise_5 = pickle.load(open(\"G_face_noise_5.gpickle\", 'rb'))\n",
    "G_face_noise_15 = pickle.load(open(\"G_face_noise_15.gpickle\", 'rb'))\n",
    "G_face_noise_25 = pickle.load(open(\"G_face_noise_25.gpickle\", 'rb'))\n",
    "\n",
    "\n",
    "adj = networkx.to_numpy_array(G_face)\n",
    "adj_5 = networkx.to_numpy_array(G_face_noise_5)\n",
    "adj_15 = networkx.to_numpy_array(G_face_noise_15)\n",
    "adj_25 = networkx.to_numpy_array(G_face_noise_25)"
   ]
  },
  {
   "cell_type": "code",
   "execution_count": 13,
   "id": "34c5bd0d-ef5f-499b-ab9b-a1e477734fd4",
   "metadata": {},
   "outputs": [
    {
     "name": "stdout",
     "output_type": "stream",
     "text": [
      "################### FRAM  ############\n",
      "FRA Converge in interation  26\n",
      "0 0.9999963285671836\n",
      "FRA Converge in interation  79\n",
      "1 0.709359143034408\n",
      "FRA Converge in interation  109\n",
      "2 0.7157163682430894\n",
      "FRA Converge in interation  140\n",
      "3 0.32594296881369955\n",
      "FRA Converge in interation  158\n",
      "4 0.196130222580062\n",
      "FRA Converge in interation  167\n",
      "5 0.11859490827675569\n",
      "FRA Converge in interation  172\n",
      "6 0.08631586747280635\n",
      "FRAM converge\n",
      "Run time: 224.51126709999517\n",
      "Node acc: 0.9465214161921268\n",
      "Edge acc: 0.9985493120565768\n"
     ]
    }
   ],
   "source": [
    "P, runtime = graphmatch_fram(adj_5, adj,a=0.95, max_dsp_iter=1000,erro=0.1,theta=10)\n",
    "print(\"Run time: \"+str(runtime))\n",
    "print(\"Node acc: \"+str(sum(np.diag(P))/4039)) \n",
    "print(\"Edge acc: \"+str(np.sum(np.multiply(adj_25,P*adj*P.T))/adj.sum()))"
   ]
  },
  {
   "cell_type": "code",
   "execution_count": null,
   "id": "5e41e3a4-23c1-4b38-8baf-bc14b7da35a9",
   "metadata": {},
   "outputs": [],
   "source": []
  }
 ],
 "metadata": {
  "kernelspec": {
   "display_name": "Python 3 (ipykernel)",
   "language": "python",
   "name": "python3"
  },
  "language_info": {
   "codemirror_mode": {
    "name": "ipython",
    "version": 3
   },
   "file_extension": ".py",
   "mimetype": "text/x-python",
   "name": "python",
   "nbconvert_exporter": "python",
   "pygments_lexer": "ipython3",
   "version": "3.10.16"
  }
 },
 "nbformat": 4,
 "nbformat_minor": 5
}
